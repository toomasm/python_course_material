{
 "metadata": {
  "name": "python_PART_5"
 },
 "nbformat": 3,
 "nbformat_minor": 0,
 "worksheets": [
  {
   "cells": [
    {
     "cell_type": "markdown",
     "metadata": {},
     "source": [
      "Introduction to scientific computing with Python\n",
      "------------------------------------------------\n",
      "------------------------------------------------\n",
      "\n",
      "David Schryer (schryer@ut.ee)\n",
      "\n",
      "* https://github.com/schryer    \n",
      "* https://bitbucket.org/schryer\n",
      "\n",
      "All notebooks in this lecture series are available at\n",
      "\n",
      "* https://github.com/schryer/python_course_material"
     ]
    },
    {
     "cell_type": "markdown",
     "metadata": {},
     "source": [
      "## Functions\n",
      "\n",
      "A function in Python is defined using the keyword `def`, followed by:\n",
      "\n",
      "- a function name\n",
      "- a *signature* within parenthises `()`\n",
      "- and a colon `:`\n",
      "\n",
      "The contents of the function are indented by one level.\n",
      "\n",
      "The following is a function that does not take any arguments.  Note that `foo` is added to the local *namespace* just like adding a variable. "
     ]
    },
    {
     "cell_type": "code",
     "collapsed": false,
     "input": [
      "def foo():   \n",
      "    print(\"bar\")\n",
      "\n",
      "'foo' in dir()"
     ],
     "language": "python",
     "metadata": {},
     "outputs": [
      {
       "output_type": "pyout",
       "prompt_number": 1,
       "text": [
        "True"
       ]
      }
     ],
     "prompt_number": 1
    },
    {
     "cell_type": "markdown",
     "metadata": {},
     "source": [
      "After defining a function, we can use it:"
     ]
    },
    {
     "cell_type": "code",
     "collapsed": false,
     "input": [
      "foo()"
     ],
     "language": "python",
     "metadata": {},
     "outputs": [
      {
       "output_type": "stream",
       "stream": "stdout",
       "text": [
        "bar\n"
       ]
      }
     ],
     "prompt_number": 2
    },
    {
     "cell_type": "markdown",
     "metadata": {},
     "source": [
      "`foo` is bored with his job and would enjoy manipulating some *positional arguments*"
     ]
    },
    {
     "cell_type": "code",
     "collapsed": false,
     "input": [
      "def foo(a, b, c):\n",
      "    print(a + b + c)"
     ],
     "language": "python",
     "metadata": {},
     "outputs": [],
     "prompt_number": 3
    },
    {
     "cell_type": "code",
     "collapsed": false,
     "input": [
      "foo(1,2,3)\n",
      "foo([1], [2], [3])\n",
      "foo('a', 'b', 'c')\n"
     ],
     "language": "python",
     "metadata": {},
     "outputs": [
      {
       "output_type": "stream",
       "stream": "stdout",
       "text": [
        "6\n",
        "[1, 2, 3]\n",
        "abc\n"
       ]
      }
     ],
     "prompt_number": 4
    },
    {
     "cell_type": "markdown",
     "metadata": {},
     "source": [
      "`foo`'s boss is sick of `foo` polluting `STDOUT`.  He now should `return` the calculated value instead of printing it out:"
     ]
    },
    {
     "cell_type": "code",
     "collapsed": false,
     "input": [
      "def foo(a, b, c):\n",
      "    return a + b + c\n",
      "\n",
      "bar1 = foo('easy', ' ', 'peasy.')\n",
      "bar2 = foo(1, 2, 3)\n",
      "bar3 = foo([1], [2] , [3])\n",
      "\n",
      "bar1, bar2, bar3 # Drunk!"
     ],
     "language": "python",
     "metadata": {},
     "outputs": [
      {
       "output_type": "pyout",
       "prompt_number": 5,
       "text": [
        "('easy peasy.', 6, [1, 2, 3])"
       ]
      }
     ],
     "prompt_number": 5
    },
    {
     "cell_type": "markdown",
     "metadata": {},
     "source": [
      "Note that to use `foo` you **must** supply three (and only three) *positional arguments*"
     ]
    },
    {
     "cell_type": "code",
     "collapsed": false,
     "input": [
      "foo(1,2)"
     ],
     "language": "python",
     "metadata": {},
     "outputs": [
      {
       "ename": "TypeError",
       "evalue": "foo() takes exactly 3 arguments (2 given)",
       "output_type": "pyerr",
       "traceback": [
        "\u001b[0;31m---------------------------------------------------------------------------\u001b[0m\n\u001b[0;31mTypeError\u001b[0m                                 Traceback (most recent call last)",
        "\u001b[0;32m<ipython-input-6-8c799f9772bc>\u001b[0m in \u001b[0;36m<module>\u001b[0;34m()\u001b[0m\n\u001b[0;32m----> 1\u001b[0;31m \u001b[0mfoo\u001b[0m\u001b[0;34m(\u001b[0m\u001b[0;36m1\u001b[0m\u001b[0;34m,\u001b[0m\u001b[0;36m2\u001b[0m\u001b[0;34m)\u001b[0m\u001b[0;34m\u001b[0m\u001b[0m\n\u001b[0m",
        "\u001b[0;31mTypeError\u001b[0m: foo() takes exactly 3 arguments (2 given)"
       ]
      }
     ],
     "prompt_number": 6
    },
    {
     "cell_type": "markdown",
     "metadata": {},
     "source": [
      "If you supply objects that cannot be added, `foo` will barf:"
     ]
    },
    {
     "cell_type": "code",
     "collapsed": false,
     "input": [
      "foo([1], [1], [2])"
     ],
     "language": "python",
     "metadata": {},
     "outputs": [
      {
       "output_type": "pyout",
       "prompt_number": 8,
       "text": [
        "[1, 1, 2]"
       ]
      }
     ],
     "prompt_number": 8
    },
    {
     "cell_type": "markdown",
     "metadata": {},
     "source": [
      "To make `foo` more flexable, you can add *keyword arguments*.\n",
      "\n",
      "keyword arguments have a default value (in this case all are `None`).  \n",
      "\n",
      "It is optional to use the `=` sign when calling functions with keyword arguments.\n",
      "\n",
      "**Note:** When supplying `foo` with *keyword arguments* using `=` signs, **the order does not matter!**"
     ]
    },
    {
     "cell_type": "code",
     "collapsed": false,
     "input": [
      "def foo(a, b, c=None, d=None, e=None, f=None):\n",
      "    value = a + b\n",
      "    if c:\n",
      "        value += c\n",
      "    if d:\n",
      "        value += d\n",
      "    if e:\n",
      "        value += e\n",
      "    if f:\n",
      "        value += f\n",
      "    print(value)\n",
      "    \n",
      "foo(1,3)\n",
      "foo(1, 2, 3)\n",
      "foo(1, 2, c=42)\n",
      "foo(1, 2, f=42, c=1)"
     ],
     "language": "python",
     "metadata": {},
     "outputs": [
      {
       "output_type": "stream",
       "stream": "stdout",
       "text": [
        "4\n",
        "6\n",
        "45\n",
        "46\n"
       ]
      }
     ],
     "prompt_number": 9
    },
    {
     "cell_type": "markdown",
     "metadata": {},
     "source": [
      "It is highly recommended to add documentation (termed *docstring*) to describe what `foo` does and how to use it. The docstring should follow directly after the function definition and before the function body.\n",
      "\n",
      "In addition, `foo` has been extended to allow one to add as many objects as you want. "
     ]
    },
    {
     "cell_type": "code",
     "collapsed": false,
     "input": [
      "def foo(a, b, others=None):\n",
      "    \"\"\"\n",
      "    returns the sum of two or more objects.\n",
      "\n",
      "    Parameters:\n",
      "    -----------\n",
      "    a: object\n",
      "    b: object\n",
      "    others: object or list of objects\n",
      "\n",
      "    Returns:\n",
      "    --------\n",
      "    sum of objects supplied\n",
      "\n",
      "    Note:\n",
      "    -----\n",
      "    This function will barf if you supply incompatible objects.\n",
      "    \"\"\"\n",
      "    value = a + b\n",
      "    if others:\n",
      "        if hasattr(others, '__iter__'):\n",
      "            for item in others:\n",
      "                value += item\n",
      "        else:\n",
      "            value += others\n",
      "    return value\n",
      "\n",
      "foo(1,2), foo(1,2,3), foo(1, 2, [1,2,3]), foo(1, 2, others=42)"
     ],
     "language": "python",
     "metadata": {},
     "outputs": [
      {
       "output_type": "pyout",
       "prompt_number": 10,
       "text": [
        "(3, 6, 9, 45)"
       ]
      }
     ],
     "prompt_number": 10
    },
    {
     "cell_type": "markdown",
     "metadata": {},
     "source": [
      "Now we can see our *docstring* using `help`:"
     ]
    },
    {
     "cell_type": "code",
     "collapsed": false,
     "input": [
      "help(foo)"
     ],
     "language": "python",
     "metadata": {},
     "outputs": [
      {
       "output_type": "stream",
       "stream": "stdout",
       "text": [
        "Help on function foo in module __main__:\n",
        "\n",
        "foo(a, b, others=None)\n",
        "    returns the sum of two or more objects.\n",
        "    \n",
        "    Parameters:\n",
        "    -----------\n",
        "    a: object\n",
        "    b: object\n",
        "    others: object or list of objects\n",
        "    \n",
        "    Returns:\n",
        "    --------\n",
        "    sum of objects supplied\n",
        "    \n",
        "    Note:\n",
        "    -----\n",
        "    This function will barf if you supply incompatible objects.\n",
        "\n"
       ]
      }
     ],
     "prompt_number": 11
    },
    {
     "cell_type": "markdown",
     "metadata": {},
     "source": [
      "If a programmer has been *lazy* and has not provided a *docstring*, we can \n",
      "still get at the function *signature*:"
     ]
    },
    {
     "cell_type": "code",
     "collapsed": false,
     "input": [
      "import inspect\n",
      "print(inspect.getargspec(foo))"
     ],
     "language": "python",
     "metadata": {},
     "outputs": [
      {
       "output_type": "stream",
       "stream": "stdout",
       "text": [
        "ArgSpec(args=['a', 'b', 'others'], varargs=None, keywords=None, defaults=(None,))\n"
       ]
      }
     ],
     "prompt_number": 12
    },
    {
     "cell_type": "markdown",
     "metadata": {},
     "source": [
      "We can return multiple values from a function using tuples (see above):"
     ]
    },
    {
     "cell_type": "code",
     "collapsed": false,
     "input": [
      "def foo_power(x):\n",
      "    \"\"\"\n",
      "    Return a foo powers of x.\n",
      "    \"\"\"\n",
      "    return x ** 2, x ** 3"
     ],
     "language": "python",
     "metadata": {},
     "outputs": [],
     "prompt_number": 15
    },
    {
     "cell_type": "code",
     "collapsed": false,
     "input": [
      "foo_power(3)"
     ],
     "language": "python",
     "metadata": {},
     "outputs": [
      {
       "output_type": "pyout",
       "prompt_number": 16,
       "text": [
        "(9, 27)"
       ]
      }
     ],
     "prompt_number": 16
    },
    {
     "cell_type": "code",
     "collapsed": false,
     "input": [
      "x2, x3 = foo_power(3)\n",
      "\n",
      "print(x3)\n",
      "print(x2)"
     ],
     "language": "python",
     "metadata": {},
     "outputs": [
      {
       "output_type": "stream",
       "stream": "stdout",
       "text": [
        "27\n",
        "9\n"
       ]
      }
     ],
     "prompt_number": 23
    },
    {
     "cell_type": "markdown",
     "metadata": {},
     "source": [
      "The result of one function can form the input of another function:\n",
      "\n",
      "Note the **`*`** :  This expands the tuple output of `foo_power` and feeds these values to `foo`"
     ]
    },
    {
     "cell_type": "code",
     "collapsed": false,
     "input": [
      "sum_of_9_and_27 = foo(*foo_power(3))\n",
      "print(sum_of_9_and_27)"
     ],
     "language": "python",
     "metadata": {},
     "outputs": [
      {
       "output_type": "stream",
       "stream": "stdout",
       "text": [
        "36\n"
       ]
      }
     ],
     "prompt_number": 27
    },
    {
     "cell_type": "markdown",
     "metadata": {},
     "source": [
      "This does not prevent us from using the *keyword argument* `others`:"
     ]
    },
    {
     "cell_type": "code",
     "collapsed": false,
     "input": [
      "my_favorite_number = foo(*foo_power(3), others=(36))\n",
      "print(my_favorite_number) "
     ],
     "language": "python",
     "metadata": {},
     "outputs": [
      {
       "output_type": "stream",
       "stream": "stdout",
       "text": [
        "72\n"
       ]
      }
     ],
     "prompt_number": 33
    },
    {
     "cell_type": "markdown",
     "metadata": {},
     "source": [
      "`foo_power`'s boss now wants to make it optional to print the powers calculated to `STDOUT` instead of returning them:\n",
      "\n",
      "If a function does not return anything, you still get `None` back."
     ]
    },
    {
     "cell_type": "code",
     "collapsed": false,
     "input": [
      "def foo_power(x, verbose=False):\n",
      "    \"\"\"\n",
      "    Return a foo powers of x.\n",
      "    \"\"\"\n",
      "    values = x ** 2, x ** 3\n",
      "    if verbose:\n",
      "        print values\n",
      "    else:\n",
      "        return values\n",
      "    \n",
      "bar1 = foo_power(3)\n",
      "bar2 = foo_power(42, verbose=True)\n",
      "print(bar1)\n",
      "print(bar2)"
     ],
     "language": "python",
     "metadata": {},
     "outputs": [
      {
       "output_type": "stream",
       "stream": "stdout",
       "text": [
        "(1764, 74088)\n",
        "(9, 27)\n",
        "None\n"
       ]
      }
     ],
     "prompt_number": 43
    },
    {
     "cell_type": "markdown",
     "metadata": {},
     "source": [
      "### Unnamed functions (lambda function)\n",
      "\n",
      "In Python we can also create unnamed functions, using the `lambda` keyword:\n",
      "\n",
      "These are not needed, but you may come across them."
     ]
    },
    {
     "cell_type": "code",
     "collapsed": false,
     "input": [
      "foo1 = lambda x: x**2\n",
      "    \n",
      "# is equivalent to \n",
      "\n",
      "def foo2(x):\n",
      "    return x**2\n",
      "\n",
      "foo1(2), foo2(2)"
     ],
     "language": "python",
     "metadata": {},
     "outputs": [
      {
       "output_type": "pyout",
       "prompt_number": 40,
       "text": [
        "(4, 4)"
       ]
      }
     ],
     "prompt_number": 40
    },
    {
     "cell_type": "markdown",
     "metadata": {},
     "source": [
      "## Classes\n",
      "\n",
      "Classes are the objects of object-oriented programming. A class object defines relationships.  To use these relationships, you must *instantiate* the class object to create an *instance* object. \n",
      "\n",
      "Think of class objects as blueprints and *instance* objects as buildings.\n",
      "\n",
      "In Python a class object can contain *attributes* (variables) and *methods* (functions).\n",
      "\n",
      "The blueprint you create when you create a class defines the relationships between variables and functions. \n",
      "\n",
      "Class objects are defined using the `class` keyword."
     ]
    },
    {
     "cell_type": "code",
     "collapsed": false,
     "input": [
      "class Foo():\n",
      "    bar = 1"
     ],
     "language": "python",
     "metadata": {},
     "outputs": [],
     "prompt_number": 3
    },
    {
     "cell_type": "markdown",
     "metadata": {},
     "source": [
      "We can use `Foo` by *instantiating* it and storing the resulting *instance* object into a variable:"
     ]
    },
    {
     "cell_type": "code",
     "collapsed": false,
     "input": [
      "foo = Foo()\n",
      "\n",
      "foo.bar, type(foo), type(Foo)"
     ],
     "language": "python",
     "metadata": {},
     "outputs": [
      {
       "output_type": "pyout",
       "prompt_number": 45,
       "text": [
        "(1, instance, classobj)"
       ]
      }
     ],
     "prompt_number": 45
    },
    {
     "cell_type": "markdown",
     "metadata": {},
     "source": [
      "We can create many `foo` instances and adjust the value of `.bar` in each of \n",
      "them as desired:"
     ]
    },
    {
     "cell_type": "code",
     "collapsed": false,
     "input": [
      "foo1 = Foo()\n",
      "foo2 = Foo()\n",
      "\n",
      "foo1.bar = 42\n",
      "foo2.bar = 58\n",
      "\n",
      "foo1.bar + foo2.bar"
     ],
     "language": "python",
     "metadata": {},
     "outputs": [
      {
       "output_type": "pyout",
       "prompt_number": 4,
       "text": [
        "100"
       ]
      }
     ],
     "prompt_number": 4
    },
    {
     "cell_type": "markdown",
     "metadata": {},
     "source": [
      "We can also change the value of `.bar` in *every* instance of `Foo`\n",
      "at once because `.bar` is a class variable. "
     ]
    },
    {
     "cell_type": "code",
     "collapsed": false,
     "input": [
      "class Foo():\n",
      "    bar = 2\n",
      "\n",
      "foo1 = Foo()\n",
      "foo2 = Foo()\n",
      "\n",
      "before = foo1.bar + foo2.bar\n",
      "\n",
      "Foo.bar = 9 # Changes the value of bar in all Foo instances (foo1 and foo2)\n",
      "\n",
      "after = foo1.bar + foo2.bar\n",
      "\n",
      "print(before, after)"
     ],
     "language": "python",
     "metadata": {},
     "outputs": [
      {
       "output_type": "stream",
       "stream": "stdout",
       "text": [
        "(4, 18)\n"
       ]
      }
     ],
     "prompt_number": 8
    },
    {
     "cell_type": "markdown",
     "metadata": {},
     "source": [
      "It is also common to have instance variables:\n",
      "\n",
      "The function `__init__` is called when `Foo` is being instantiated.\n",
      "It is a special variable within a class.  There are many more, see http://docs.python.org/2/reference/datamodel.html#special-method-names\n",
      "\n",
      "The first argument in a function contained within a class is the instance object.\n",
      "It is passed to the function automatically when you use the function.\n",
      "\n",
      "We then add the variable `instance_bar` to the instance object."
     ]
    },
    {
     "cell_type": "code",
     "collapsed": false,
     "input": [
      "class Foo():\n",
      "    class_bar = 42\n",
      "    \n",
      "    def __init__(self, bar=1):\n",
      "        self.instance_bar = bar\n",
      "        \n",
      "foo1 = Foo()\n",
      "\n",
      "foo1.class_bar, foo1.instance_bar"
     ],
     "language": "python",
     "metadata": {},
     "outputs": [
      {
       "output_type": "pyout",
       "prompt_number": 18,
       "text": [
        "(42, 1)"
       ]
      }
     ],
     "prompt_number": 18
    },
    {
     "cell_type": "raw",
     "metadata": {},
     "source": [
      "Our trick no longer works: "
     ]
    },
    {
     "cell_type": "code",
     "collapsed": false,
     "input": [
      "class Foo():\n",
      "    class_bar = 42\n",
      "    \n",
      "    def __init__(self, bar=1):\n",
      "        self.instance_bar = bar\n",
      "        \n",
      "foo1 = Foo(1)\n",
      "foo2 = Foo(2)\n",
      "\n",
      "before = foo1.instance_bar + foo2.instance_bar\n",
      "Foo.instance_bar = 100\n",
      "after = foo1.instance_bar + foo2.instance_bar\n",
      "\n",
      "print('instance variable change :', before, after)\n",
      "\n",
      "before = foo1.class_bar + foo2.class_bar\n",
      "Foo.class_bar = 1\n",
      "after = foo1.class_bar + foo2.class_bar\n",
      "\n",
      "print('class variable change :', before, after)"
     ],
     "language": "python",
     "metadata": {},
     "outputs": [
      {
       "output_type": "stream",
       "stream": "stdout",
       "text": [
        "('instance variable change :', 3, 3)\n",
        "('class variable change :', 84, 2)\n"
       ]
      }
     ],
     "prompt_number": 21
    },
    {
     "cell_type": "markdown",
     "metadata": {},
     "source": [
      "It is a good idea to document your classes:  (same technique as in functions)"
     ]
    },
    {
     "cell_type": "code",
     "collapsed": false,
     "input": [
      "class Point:\n",
      "    \"\"\"\n",
      "    Simple class for representing a point.\n",
      "    \"\"\"\n",
      "    \n",
      "    def __init__(self, x, y):\n",
      "        \"\"\"\n",
      "        Create a new Point at x, y.\n",
      "        \"\"\"\n",
      "        self.x = x\n",
      "        self.y = y\n",
      "        \n",
      "    def translate(self, dx, dy):\n",
      "        \"\"\"\n",
      "        Translate the point by dx and dy in the x and y directions.\n",
      "        \"\"\"\n",
      "        self.x += dx\n",
      "        self.y += dy\n",
      "        \n",
      "    def __add__(self, other_point):\n",
      "        '''\n",
      "        Adds two Point instances.\n",
      "        '''\n",
      "        return Point(self.x + other_point.x, \n",
      "                     self.y + other_point.y)\n",
      "    \n",
      "    def __str__(self):\n",
      "        '''\n",
      "        Return a string representation of this point instance.\n",
      "        '''\n",
      "        return(\"Point at [%f, %f]\" % (self.x, self.y))"
     ],
     "language": "python",
     "metadata": {},
     "outputs": [],
     "prompt_number": 23
    },
    {
     "cell_type": "markdown",
     "metadata": {},
     "source": [
      "Now we can get help about how to use a `Point` class."
     ]
    },
    {
     "cell_type": "code",
     "collapsed": false,
     "input": [
      "help(Point)"
     ],
     "language": "python",
     "metadata": {},
     "outputs": [
      {
       "output_type": "stream",
       "stream": "stdout",
       "text": [
        "Help on class Point in module __main__:\n",
        "\n",
        "class Point\n",
        " |  Simple class for representing a point.\n",
        " |  \n",
        " |  Methods defined here:\n",
        " |  \n",
        " |  __add__(self, other_point)\n",
        " |      Adds two Point instances.\n",
        " |  \n",
        " |  __init__(self, x, y)\n",
        " |      Create a new Point at x, y.\n",
        " |  \n",
        " |  __str__(self)\n",
        " |      Return a string representation of this point instance.\n",
        " |  \n",
        " |  translate(self, dx, dy)\n",
        " |      Translate the point by dx and dy in the x and y directions.\n",
        "\n"
       ]
      }
     ],
     "prompt_number": 24
    },
    {
     "cell_type": "code",
     "collapsed": false,
     "input": [
      "p1 = Point(1, 2)\n",
      "p2 = Point(3, 4)\n",
      "\n",
      "p3 = p1 + p2\n",
      "\n",
      "p1.translate(0.25, 1.5)\n",
      "\n",
      "p4 = p1 + p2\n",
      "\n",
      "print(p3)\n",
      "print(p4)"
     ],
     "language": "python",
     "metadata": {},
     "outputs": [
      {
       "output_type": "stream",
       "stream": "stdout",
       "text": [
        "Point at [4.000000, 6.000000]\n",
        "Point at [4.250000, 7.500000]\n"
       ]
      }
     ],
     "prompt_number": 25
    },
    {
     "cell_type": "markdown",
     "metadata": {},
     "source": [
      "Note that calling class methods can modifiy the state of the that particular class instance, but does not effect other class instances or any global variables."
     ]
    },
    {
     "cell_type": "markdown",
     "metadata": {},
     "source": [
      "## Modules\n",
      "\n",
      "One of the most important concepts in good programming is to reuse code and avoid repetition.\n",
      "\n",
      "The idea is to write functions and classes with a well-defined purpose and scope, and reuse these instead of repeating similar code in different parts of a program. \n",
      "\n",
      "Avoiding repetition avoids many types of bugs, and makes programs easier to extend,  debug, and read. \n",
      "\n",
      "Every file that can be interpreted by the Python interpreter is a Python module.  Python modules are the most fundamental method of organizing code for reuse because they collect related variables, functions, and classes together. \n",
      "\n",
      "Consider the following example: the file `mymodule.py` contains simple example implementations of a variable, function and a class:\n",
      "\n",
      "**Note:** `%%file` tells IPython to write the following to a file."
     ]
    },
    {
     "cell_type": "code",
     "collapsed": false,
     "input": [
      "%%file pointmodule.py\n",
      "\"\"\"\n",
      "Example of a python module. Contains a variable point_data,\n",
      "a function add_points, and a class Point.\n",
      "\"\"\"\n",
      "\n",
      "point_data = [(1,2), (2,3), (3,4), (4,5)]\n",
      "\n",
      "class Point:\n",
      "    \"\"\"\n",
      "    Simple class for representing a point.\n",
      "    \"\"\"\n",
      "    \n",
      "    def __init__(self, x, y):\n",
      "        \"\"\"\n",
      "        Create a new Point at x, y.\n",
      "        \"\"\"\n",
      "        self.x = x\n",
      "        self.y = y\n",
      "        \n",
      "    def translate(self, dx, dy):\n",
      "        \"\"\"\n",
      "        Translate the point by dx and dy in the x and y directions.\n",
      "        \"\"\"\n",
      "        self.x += dx\n",
      "        self.y += dy\n",
      "        \n",
      "    def __add__(self, other_point):\n",
      "        '''\n",
      "        Adds two Point instances.\n",
      "        '''\n",
      "        return Point(self.x + other_point.x, \n",
      "                     self.y + other_point.y)\n",
      "    \n",
      "    def __str__(self):\n",
      "        '''\n",
      "        Return a string representation of this point instance.\n",
      "        '''\n",
      "        return(\"Point at [%f, %f]\" % (self.x, self.y))\n",
      "\n",
      "def add_points(data=None):\n",
      "    \"\"\"\n",
      "    Example that uses point_data and the Point class.\n",
      "    \"\"\"\n",
      "    if not data:\n",
      "        data = point_data\n",
      "    point_sum = None\n",
      "    for point_tuple in data:\n",
      "        p = Point(*point_tuple)\n",
      "        if not point_sum:\n",
      "            point_sum = p\n",
      "        else:\n",
      "            point_sum += p\n",
      "    \n",
      "    return point_sum"
     ],
     "language": "python",
     "metadata": {},
     "outputs": [
      {
       "output_type": "stream",
       "stream": "stdout",
       "text": [
        "Writing pointmodule.py\n"
       ]
      }
     ],
     "prompt_number": 26
    },
    {
     "cell_type": "markdown",
     "metadata": {},
     "source": [
      "We can import the module `pointmodule` into our Python program using `import`:"
     ]
    },
    {
     "cell_type": "code",
     "collapsed": false,
     "input": [
      "import pointmodule"
     ],
     "language": "python",
     "metadata": {},
     "outputs": [],
     "prompt_number": 27
    },
    {
     "cell_type": "markdown",
     "metadata": {},
     "source": [
      "Use `help(module)` to get a summary of what the module provides:"
     ]
    },
    {
     "cell_type": "code",
     "collapsed": false,
     "input": [
      "help(pointmodule)"
     ],
     "language": "python",
     "metadata": {},
     "outputs": [
      {
       "output_type": "stream",
       "stream": "stdout",
       "text": [
        "Help on module pointmodule:\n",
        "\n",
        "NAME\n",
        "    pointmodule\n",
        "\n",
        "FILE\n",
        "    /home/swc/hg/python_course_material/day_1_python/pointmodule.py\n",
        "\n",
        "DESCRIPTION\n",
        "    Example of a python module. Contains a variable point_data,\n",
        "    a function add_points, and a class Point.\n",
        "\n",
        "CLASSES\n",
        "    Point\n",
        "    \n",
        "    class Point\n",
        "     |  Simple class for representing a point.\n",
        "     |  \n",
        "     |  Methods defined here:\n",
        "     |  \n",
        "     |  __add__(self, other_point)\n",
        "     |      Adds two Point instances.\n",
        "     |  \n",
        "     |  __init__(self, x, y)\n",
        "     |      Create a new Point at x, y.\n",
        "     |  \n",
        "     |  __str__(self)\n",
        "     |      Return a string representation of this point instance.\n",
        "     |  \n",
        "     |  translate(self, dx, dy)\n",
        "     |      Translate the point by dx and dy in the x and y directions.\n",
        "\n",
        "FUNCTIONS\n",
        "    add_points(data=None)\n",
        "        Example that uses point_data and the Point class.\n",
        "\n",
        "DATA\n",
        "    point_data = [(1, 2), (2, 3), (3, 4), (4, 5)]\n",
        "\n",
        "\n"
       ]
      }
     ],
     "prompt_number": 28
    },
    {
     "cell_type": "code",
     "collapsed": false,
     "input": [
      "data = pointmodule.point_data\n",
      "\n",
      "point_sum = pointmodule.add_points(data)\n",
      "\n",
      "print(point_sum)\n",
      "\n",
      "# Let's add another point!\n",
      "\n",
      "p = pointmodule.Point(32, 28)\n",
      "\n",
      "print(point_sum + p)\n"
     ],
     "language": "python",
     "metadata": {},
     "outputs": [
      {
       "output_type": "stream",
       "stream": "stdout",
       "text": [
        "Point at [10.000000, 14.000000]\n",
        "Point at [42.000000, 42.000000]\n"
       ]
      }
     ],
     "prompt_number": 29
    },
    {
     "cell_type": "markdown",
     "metadata": {},
     "source": [
      "To avoid writing `pointmodule.` too many times, and to only import the variables, functions, and classes we need, we can use the `from` keyword together with `import`."
     ]
    },
    {
     "cell_type": "code",
     "collapsed": false,
     "input": [
      "from pointmodule import add_points\n",
      "\n",
      "print(add_points())"
     ],
     "language": "python",
     "metadata": {},
     "outputs": [
      {
       "output_type": "stream",
       "stream": "stdout",
       "text": [
        "Point at [10.000000, 14.000000]\n"
       ]
      }
     ],
     "prompt_number": 30
    },
    {
     "cell_type": "code",
     "collapsed": false,
     "input": [
      "import sys\n",
      "import IPython"
     ],
     "language": "python",
     "metadata": {},
     "outputs": [],
     "prompt_number": 31
    },
    {
     "cell_type": "code",
     "collapsed": false,
     "input": [
      "print(\"This notebook was evaluated with: Python %s and IPython %s.\" % (sys.version, IPython.__version__))"
     ],
     "language": "python",
     "metadata": {},
     "outputs": [
      {
       "output_type": "stream",
       "stream": "stdout",
       "text": [
        "This notebook was evaluated with: Python 2.7.4 (default, Apr 19 2013, 18:32:33) \n",
        "[GCC 4.7.3] and IPython 0.13.2.\n"
       ]
      }
     ],
     "prompt_number": 32
    },
    {
     "cell_type": "code",
     "collapsed": false,
     "input": [],
     "language": "python",
     "metadata": {},
     "outputs": []
    }
   ],
   "metadata": {}
  }
 ]
}