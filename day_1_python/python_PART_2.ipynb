{
 "metadata": {
  "name": "python_PART_2"
 },
 "nbformat": 3,
 "nbformat_minor": 0,
 "worksheets": [
  {
   "cells": [
    {
     "cell_type": "markdown",
     "metadata": {},
     "source": [
      "Introduction to scientific computing with Python\n",
      "------------------------------------------------\n",
      "------------------------------------------------\n",
      "\n",
      "David Schryer (schryer@ut.ee)\n",
      "\n",
      "* https://github.com/schryer    \n",
      "* https://bitbucket.org/schryer\n",
      "\n",
      "All notebooks in this lecture series are available at\n",
      "\n",
      "* https://github.com/schryer/python_course_material"
     ]
    },
    {
     "cell_type": "markdown",
     "metadata": {},
     "source": [
      "## Variables and types\n",
      "\n",
      "### Symbol names \n",
      "\n",
      "Variable names in Python can contain alphanumerical characters `a-z`, `A-Z`, `0-9` and some special characters such as `_`. Normal variable names should not start with a number. \n",
      "\n",
      "By convension, variable names start with a lower-case letter, and Class names start with a capital letter. \n",
      "\n",
      "In addition, there are a number of Python keywords that cannot be used as variable names. These keywords are:\n",
      "\n",
      "    and, as, assert, break, class, continue, def, del, elif, else, except, \n",
      "    exec, finally, for, from, global, if, import, in, is, lambda, not, or,\n",
      "    pass, print, raise, return, try, while, with, yield.\n",
      "\n",
      "Common python functions and modules should also not be used as variable names.  If it is commonly imported, \n",
      "DO NOT use it as a variable name:\n",
      "\n",
      "    string, os, sys, ord, chr, int, float, bool, long, numpy, .... (longer list)\n",
      "\n",
      "Conventional variable names:"
     ]
    },
    {
     "cell_type": "code",
     "collapsed": false,
     "input": [
      "x = 1.0\n",
      "x1 = 3.4\n",
      "x23982342 = 56.8\n",
      "\n",
      "my_variable = \"a string\""
     ],
     "language": "python",
     "metadata": {},
     "outputs": [],
     "prompt_number": 18
    },
    {
     "cell_type": "markdown",
     "metadata": {},
     "source": [
      "Variable names with special meaning:"
     ]
    },
    {
     "cell_type": "code",
     "collapsed": false,
     "input": [
      "_x = 1.0  # By convention a leading underscore means don't import, use, or set this variable directly.\n",
      "\n",
      "__x__ = 'Variables with two leading and two trailing underscores have special meaning --- remember help(1)'\n"
     ],
     "language": "python",
     "metadata": {},
     "outputs": [
      {
       "output_type": "stream",
       "stream": "stdout",
       "text": [
        "Help on DummyMod in module IPython.core.interactiveshell object:\n",
        "\n",
        "__main__ = class DummyMod(__builtin__.object)\n",
        " |  A dummy module used for IPython's interactive namespace.\n",
        " |  \n",
        " |  Data descriptors defined here:\n",
        " |  \n",
        " |  __dict__\n",
        " |      dictionary for instance variables (if defined)\n",
        " |  \n",
        " |  __weakref__\n",
        " |      list of weak references to the object (if defined)\n",
        "\n"
       ]
      }
     ],
     "prompt_number": 19
    },
    {
     "cell_type": "markdown",
     "metadata": {},
     "source": [
      "### Fundamental types"
     ]
    },
    {
     "cell_type": "code",
     "collapsed": false,
     "input": [
      "x = 1; y = 10000000000\n",
      "type(x), type(y)"
     ],
     "language": "python",
     "metadata": {},
     "outputs": [
      {
       "output_type": "pyout",
       "prompt_number": 9,
       "text": [
        "(int, long)"
       ]
      }
     ],
     "prompt_number": 9
    },
    {
     "cell_type": "code",
     "collapsed": false,
     "input": [
      "x = 1.0\n",
      "type(x)"
     ],
     "language": "python",
     "metadata": {},
     "outputs": [
      {
       "output_type": "pyout",
       "prompt_number": 5,
       "text": [
        "float"
       ]
      }
     ],
     "prompt_number": 5
    },
    {
     "cell_type": "markdown",
     "metadata": {},
     "source": [
      "Boolean types start with capital letters:"
     ]
    },
    {
     "cell_type": "code",
     "collapsed": false,
     "input": [
      "b1 = True\n",
      "b2 = False\n",
      "\n",
      "type(b1)"
     ],
     "language": "python",
     "metadata": {},
     "outputs": [
      {
       "output_type": "pyout",
       "prompt_number": 6,
       "text": [
        "bool"
       ]
      }
     ],
     "prompt_number": 6
    },
    {
     "cell_type": "markdown",
     "metadata": {},
     "source": [
      "Complex numbers are a fundamental type: note the use of `j` to specify the imaginary part"
     ]
    },
    {
     "cell_type": "code",
     "collapsed": false,
     "input": [
      "x = 1.0 - 1.0j\n",
      "type(x)\n",
      "help(float)"
     ],
     "language": "python",
     "metadata": {},
     "outputs": [
      {
       "output_type": "stream",
       "stream": "stdout",
       "text": [
        "Help on class float in module __builtin__:\n",
        "\n",
        "class float(object)\n",
        " |  float(x) -> floating point number\n",
        " |  \n",
        " |  Convert a string or number to a floating point number, if possible.\n",
        " |  \n",
        " |  Methods defined here:\n",
        " |  \n",
        " |  __abs__(...)\n",
        " |      x.__abs__() <==> abs(x)\n",
        " |  \n",
        " |  __add__(...)\n",
        " |      x.__add__(y) <==> x+y\n",
        " |  \n",
        " |  __coerce__(...)\n",
        " |      x.__coerce__(y) <==> coerce(x, y)\n",
        " |  \n",
        " |  __div__(...)\n",
        " |      x.__div__(y) <==> x/y\n",
        " |  \n",
        " |  __divmod__(...)\n",
        " |      x.__divmod__(y) <==> divmod(x, y)\n",
        " |  \n",
        " |  __eq__(...)\n",
        " |      x.__eq__(y) <==> x==y\n",
        " |  \n",
        " |  __float__(...)\n",
        " |      x.__float__() <==> float(x)\n",
        " |  \n",
        " |  __floordiv__(...)\n",
        " |      x.__floordiv__(y) <==> x//y\n",
        " |  \n",
        " |  __format__(...)\n",
        " |      float.__format__(format_spec) -> string\n",
        " |      \n",
        " |      Formats the float according to format_spec.\n",
        " |  \n",
        " |  __ge__(...)\n",
        " |      x.__ge__(y) <==> x>=y\n",
        " |  \n",
        " |  __getattribute__(...)\n",
        " |      x.__getattribute__('name') <==> x.name\n",
        " |  \n",
        " |  __getformat__(...)\n",
        " |      float.__getformat__(typestr) -> string\n",
        " |      \n",
        " |      You probably don't want to use this function.  It exists mainly to be\n",
        " |      used in Python's test suite.\n",
        " |      \n",
        " |      typestr must be 'double' or 'float'.  This function returns whichever of\n",
        " |      'unknown', 'IEEE, big-endian' or 'IEEE, little-endian' best describes the\n",
        " |      format of floating point numbers used by the C type named by typestr.\n",
        " |  \n",
        " |  __getnewargs__(...)\n",
        " |  \n",
        " |  __gt__(...)\n",
        " |      x.__gt__(y) <==> x>y\n",
        " |  \n",
        " |  __hash__(...)\n",
        " |      x.__hash__() <==> hash(x)\n",
        " |  \n",
        " |  __int__(...)\n",
        " |      x.__int__() <==> int(x)\n",
        " |  \n",
        " |  __le__(...)\n",
        " |      x.__le__(y) <==> x<=y\n",
        " |  \n",
        " |  __long__(...)\n",
        " |      x.__long__() <==> long(x)\n",
        " |  \n",
        " |  __lt__(...)\n",
        " |      x.__lt__(y) <==> x<y\n",
        " |  \n",
        " |  __mod__(...)\n",
        " |      x.__mod__(y) <==> x%y\n",
        " |  \n",
        " |  __mul__(...)\n",
        " |      x.__mul__(y) <==> x*y\n",
        " |  \n",
        " |  __ne__(...)\n",
        " |      x.__ne__(y) <==> x!=y\n",
        " |  \n",
        " |  __neg__(...)\n",
        " |      x.__neg__() <==> -x\n",
        " |  \n",
        " |  __nonzero__(...)\n",
        " |      x.__nonzero__() <==> x != 0\n",
        " |  \n",
        " |  __pos__(...)\n",
        " |      x.__pos__() <==> +x\n",
        " |  \n",
        " |  __pow__(...)\n",
        " |      x.__pow__(y[, z]) <==> pow(x, y[, z])\n",
        " |  \n",
        " |  __radd__(...)\n",
        " |      x.__radd__(y) <==> y+x\n",
        " |  \n",
        " |  __rdiv__(...)\n",
        " |      x.__rdiv__(y) <==> y/x\n",
        " |  \n",
        " |  __rdivmod__(...)\n",
        " |      x.__rdivmod__(y) <==> divmod(y, x)\n",
        " |  \n",
        " |  __repr__(...)\n",
        " |      x.__repr__() <==> repr(x)\n",
        " |  \n",
        " |  __rfloordiv__(...)\n",
        " |      x.__rfloordiv__(y) <==> y//x\n",
        " |  \n",
        " |  __rmod__(...)\n",
        " |      x.__rmod__(y) <==> y%x\n",
        " |  \n",
        " |  __rmul__(...)\n",
        " |      x.__rmul__(y) <==> y*x\n",
        " |  \n",
        " |  __rpow__(...)\n",
        " |      y.__rpow__(x[, z]) <==> pow(x, y[, z])\n",
        " |  \n",
        " |  __rsub__(...)\n",
        " |      x.__rsub__(y) <==> y-x\n",
        " |  \n",
        " |  __rtruediv__(...)\n",
        " |      x.__rtruediv__(y) <==> y/x\n",
        " |  \n",
        " |  __setformat__(...)\n",
        " |      float.__setformat__(typestr, fmt) -> None\n",
        " |      \n",
        " |      You probably don't want to use this function.  It exists mainly to be\n",
        " |      used in Python's test suite.\n",
        " |      \n",
        " |      typestr must be 'double' or 'float'.  fmt must be one of 'unknown',\n",
        " |      'IEEE, big-endian' or 'IEEE, little-endian', and in addition can only be\n",
        " |      one of the latter two if it appears to match the underlying C reality.\n",
        " |      \n",
        " |      Overrides the automatic determination of C-level floating point type.\n",
        " |      This affects how floats are converted to and from binary strings.\n",
        " |  \n",
        " |  __str__(...)\n",
        " |      x.__str__() <==> str(x)\n",
        " |  \n",
        " |  __sub__(...)\n",
        " |      x.__sub__(y) <==> x-y\n",
        " |  \n",
        " |  __truediv__(...)\n",
        " |      x.__truediv__(y) <==> x/y\n",
        " |  \n",
        " |  __trunc__(...)\n",
        " |      Returns the Integral closest to x between 0 and x.\n",
        " |  \n",
        " |  as_integer_ratio(...)\n",
        " |      float.as_integer_ratio() -> (int, int)\n",
        " |      \n",
        " |      Returns a pair of integers, whose ratio is exactly equal to the original\n",
        " |      float and with a positive denominator.\n",
        " |      Raises OverflowError on infinities and a ValueError on NaNs.\n",
        " |      \n",
        " |      >>> (10.0).as_integer_ratio()\n",
        " |      (10, 1)\n",
        " |      >>> (0.0).as_integer_ratio()\n",
        " |      (0, 1)\n",
        " |      >>> (-.25).as_integer_ratio()\n",
        " |      (-1, 4)\n",
        " |  \n",
        " |  conjugate(...)\n",
        " |      Returns self, the complex conjugate of any float.\n",
        " |  \n",
        " |  fromhex(...)\n",
        " |      float.fromhex(string) -> float\n",
        " |      \n",
        " |      Create a floating-point number from a hexadecimal string.\n",
        " |      >>> float.fromhex('0x1.ffffp10')\n",
        " |      2047.984375\n",
        " |      >>> float.fromhex('-0x1p-1074')\n",
        " |      -4.9406564584124654e-324\n",
        " |  \n",
        " |  hex(...)\n",
        " |      float.hex() -> string\n",
        " |      \n",
        " |      Return a hexadecimal representation of a floating-point number.\n",
        " |      >>> (-0.1).hex()\n",
        " |      '-0x1.999999999999ap-4'\n",
        " |      >>> 3.14159.hex()\n",
        " |      '0x1.921f9f01b866ep+1'\n",
        " |  \n",
        " |  is_integer(...)\n",
        " |      Returns True if the float is an integer.\n",
        " |  \n",
        " |  ----------------------------------------------------------------------\n",
        " |  Data descriptors defined here:\n",
        " |  \n",
        " |  imag\n",
        " |      the imaginary part of a complex number\n",
        " |  \n",
        " |  real\n",
        " |      the real part of a complex number\n",
        " |  \n",
        " |  ----------------------------------------------------------------------\n",
        " |  Data and other attributes defined here:\n",
        " |  \n",
        " |  __new__ = <built-in method __new__ of type object>\n",
        " |      T.__new__(S, ...) -> a new object with type S, a subtype of T\n",
        "\n"
       ]
      }
     ],
     "prompt_number": 11
    },
    {
     "cell_type": "markdown",
     "metadata": {},
     "source": [
      "The `None` type is very commonly used.  NumPy introduces many more types that we will see later."
     ]
    },
    {
     "cell_type": "code",
     "collapsed": false,
     "input": [
      "x = None\n",
      "help(None)"
     ],
     "language": "python",
     "metadata": {},
     "outputs": [
      {
       "output_type": "stream",
       "stream": "stdout",
       "text": [
        "Help on NoneType object:\n",
        "\n",
        "class NoneType(object)\n",
        " |  Methods defined here:\n",
        " |  \n",
        " |  __hash__(...)\n",
        " |      x.__hash__() <==> hash(x)\n",
        " |  \n",
        " |  __repr__(...)\n",
        " |      x.__repr__() <==> repr(x)\n",
        "\n"
       ]
      }
     ],
     "prompt_number": 16
    },
    {
     "cell_type": "markdown",
     "metadata": {},
     "source": [
      "Note that Python does not have a character (`char`) type.  If you are converting old `C` code that uses ASCII values you can use `ord`:"
     ]
    },
    {
     "cell_type": "code",
     "collapsed": false,
     "input": [
      "ord('h')"
     ],
     "language": "python",
     "metadata": {},
     "outputs": [
      {
       "output_type": "pyout",
       "prompt_number": 17,
       "text": [
        "104"
       ]
      }
     ],
     "prompt_number": 17
    },
    {
     "cell_type": "markdown",
     "metadata": {},
     "source": [
      "To convert back to a letter, use chr.  These functions (`ord` and `chr`) are not commonly used because strings are a joy to work with in Python.  \n",
      "However, strings are special because they are also containers (see below)."
     ]
    },
    {
     "cell_type": "code",
     "collapsed": false,
     "input": [
      "chr(104)"
     ],
     "language": "python",
     "metadata": {},
     "outputs": []
    },
    {
     "cell_type": "markdown",
     "metadata": {},
     "source": [
      "### Strings\n",
      "\n",
      "Strings are a special fundamental type because they are also *containers*.\n",
      "\n",
      "Strings can be made by enclosing text with either single or double quotation characters (') or (\")."
     ]
    },
    {
     "cell_type": "code",
     "collapsed": false,
     "input": [
      "Stan_Ulam_said = \"Whatever is worth saying can be stated in fifty words or less.\"\n",
      "I_say = 'Most ideas can be expressed in fifty Python statements or less.'"
     ],
     "language": "python",
     "metadata": {},
     "outputs": [],
     "prompt_number": 21
    },
    {
     "cell_type": "markdown",
     "metadata": {},
     "source": [
      "Multiline strings are made by starting and ending with three quotation characters (''' text ''') or (\"\"\" text \"\"\")."
     ]
    },
    {
     "cell_type": "code",
     "collapsed": false,
     "input": [
      "John_Tukey_said = '''\n",
      "An approximate answer to the right problem is worth a good deal \n",
      "more than an exact answer to an approximate problem.'''"
     ],
     "language": "python",
     "metadata": {},
     "outputs": [],
     "prompt_number": 22
    },
    {
     "cell_type": "markdown",
     "metadata": {},
     "source": [
      "Triple quotes can be used to make strings that contain quote characters:"
     ]
    },
    {
     "cell_type": "code",
     "collapsed": false,
     "input": [
      "Even_though_the_student_knew_the_problem_was_ill_poised = ''',\n",
      "\n",
      "the professor strongly advised: \n",
      "\n",
      "\"Do the calculation!\".'''"
     ],
     "language": "python",
     "metadata": {},
     "outputs": [],
     "prompt_number": 23
    },
    {
     "cell_type": "markdown",
     "metadata": {},
     "source": [
      "### Containers in Python\n",
      "\n",
      "Containers are used to hold groups of objects (such as fundamental types, or other containers).\n",
      "It is easy (and common) to define your own container types in Python that have specific properties. \n",
      "\n",
      "Strings (both `str` (8-bit) and `unicode`) are a special type of container that only hold text.  \n",
      "\n",
      "Containers allow us to do many things:"
     ]
    },
    {
     "cell_type": "markdown",
     "metadata": {},
     "source": [
      "`True` if an item is contained in a container object, otherwise `False`.  This is useful for checking substrings:"
     ]
    },
    {
     "cell_type": "code",
     "collapsed": false,
     "input": [
      "'fifty' in Stan_Ulam_said"
     ],
     "language": "python",
     "metadata": {},
     "outputs": [
      {
       "output_type": "pyout",
       "prompt_number": 19,
       "text": [
        "True"
       ]
      }
     ],
     "prompt_number": 19
    },
    {
     "cell_type": "markdown",
     "metadata": {},
     "source": [
      "The `not` keyword can be used to test the opposite (The substring '50' is not in this `str` object): "
     ]
    },
    {
     "cell_type": "code",
     "collapsed": false,
     "input": [
      "'50' not in Stan_Ulam_said"
     ],
     "language": "python",
     "metadata": {},
     "outputs": [
      {
       "output_type": "pyout",
       "prompt_number": 20,
       "text": [
        "True"
       ]
      }
     ],
     "prompt_number": 20
    },
    {
     "cell_type": "markdown",
     "metadata": {},
     "source": [
      "Elements of a container can be accessed from the start by positive indicies (starting at `0`):"
     ]
    },
    {
     "cell_type": "code",
     "collapsed": false,
     "input": [
      "I_say[15:20]"
     ],
     "language": "python",
     "metadata": {},
     "outputs": [
      {
       "output_type": "pyout",
       "prompt_number": 38,
       "text": [
        "'be ex'"
       ]
      }
     ],
     "prompt_number": 38
    },
    {
     "cell_type": "markdown",
     "metadata": {},
     "source": [
      "Or from the end by negative indicies (starting at -1)"
     ]
    },
    {
     "cell_type": "code",
     "collapsed": false,
     "input": [
      "I_say[-7]"
     ],
     "language": "python",
     "metadata": {},
     "outputs": [
      {
       "output_type": "pyout",
       "prompt_number": 45,
       "text": [
        "'r'"
       ]
      }
     ],
     "prompt_number": 45
    },
    {
     "cell_type": "markdown",
     "metadata": {},
     "source": [
      "Multiple elements can be accessed by slicing:"
     ]
    },
    {
     "cell_type": "code",
     "collapsed": false,
     "input": [
      "I_say[0:4]"
     ],
     "language": "python",
     "metadata": {},
     "outputs": [
      {
       "output_type": "pyout",
       "prompt_number": 23,
       "text": [
        "'Most'"
       ]
      }
     ],
     "prompt_number": 23
    },
    {
     "cell_type": "markdown",
     "metadata": {},
     "source": [
      "Leaving out one of these indicies means **to the beginning** or **to the end**:"
     ]
    },
    {
     "cell_type": "code",
     "collapsed": false,
     "input": [
      "I_say[:15]\n"
     ],
     "language": "python",
     "metadata": {},
     "outputs": [
      {
       "output_type": "pyout",
       "prompt_number": 30,
       "text": [
        "'Most ideas can '"
       ]
      }
     ],
     "prompt_number": 30
    },
    {
     "cell_type": "code",
     "collapsed": false,
     "input": [
      "b = \"r\"\n",
      "b.center(50)"
     ],
     "language": "python",
     "metadata": {},
     "outputs": [
      {
       "output_type": "pyout",
       "prompt_number": 31,
       "text": [
        "'                        r                         '"
       ]
      }
     ],
     "prompt_number": 31
    },
    {
     "cell_type": "code",
     "collapsed": false,
     "input": [
      "I_say[5:]"
     ],
     "language": "python",
     "metadata": {},
     "outputs": [
      {
       "output_type": "pyout",
       "prompt_number": 46,
       "text": [
        "'ideas can be expressed in fifty Python statements or less.'"
       ]
      }
     ],
     "prompt_number": 46
    },
    {
     "cell_type": "markdown",
     "metadata": {},
     "source": [
      "This also works with negative indicies:"
     ]
    },
    {
     "cell_type": "code",
     "collapsed": false,
     "input": [
      "I_say[-5:]"
     ],
     "language": "python",
     "metadata": {},
     "outputs": [
      {
       "output_type": "pyout",
       "prompt_number": 47,
       "text": [
        "'less.'"
       ]
      }
     ],
     "prompt_number": 47
    },
    {
     "cell_type": "markdown",
     "metadata": {},
     "source": [
      "You can also skip elements when slicing (In these cases we slice in steps of 2):"
     ]
    },
    {
     "cell_type": "code",
     "collapsed": false,
     "input": [
      "I_say[5:16:2]"
     ],
     "language": "python",
     "metadata": {},
     "outputs": [
      {
       "output_type": "pyout",
       "prompt_number": 48,
       "text": [
        "'iescnb'"
       ]
      }
     ],
     "prompt_number": 48
    },
    {
     "cell_type": "code",
     "collapsed": false,
     "input": [
      "I_say[::2]"
     ],
     "language": "python",
     "metadata": {},
     "outputs": [
      {
       "output_type": "pyout",
       "prompt_number": 49,
       "text": [
        "'Ms da a eepesdi it yhnsaeet rls.'"
       ]
      }
     ],
     "prompt_number": 49
    },
    {
     "cell_type": "markdown",
     "metadata": {},
     "source": [
      "The number of items in a container is its length: "
     ]
    },
    {
     "cell_type": "code",
     "collapsed": false,
     "input": [
      "len(I_say)"
     ],
     "language": "python",
     "metadata": {},
     "outputs": [
      {
       "output_type": "pyout",
       "prompt_number": 50,
       "text": [
        "63"
       ]
      }
     ],
     "prompt_number": 50
    },
    {
     "cell_type": "markdown",
     "metadata": {},
     "source": [
      "The smallest and largest items in a container are found using `min` and `max`, however, this is not often useful for strings:"
     ]
    },
    {
     "cell_type": "code",
     "collapsed": false,
     "input": [
      "min(I_say), max(I_say)"
     ],
     "language": "python",
     "metadata": {},
     "outputs": [
      {
       "output_type": "pyout",
       "prompt_number": 51,
       "text": [
        "(' ', 'y')"
       ]
      }
     ],
     "prompt_number": 51
    },
    {
     "cell_type": "markdown",
     "metadata": {},
     "source": [
      "You can find the index of the first occurance of an object in a container:"
     ]
    },
    {
     "cell_type": "code",
     "collapsed": false,
     "input": [
      "I_say.index('fifty'), Stan_Ulam_said.index('fifty')"
     ],
     "language": "python",
     "metadata": {},
     "outputs": [
      {
       "output_type": "pyout",
       "prompt_number": 52,
       "text": [
        "(31, 42)"
       ]
      }
     ],
     "prompt_number": 52
    },
    {
     "cell_type": "markdown",
     "metadata": {},
     "source": [
      "This proves that I said `fifty` first...\n",
      "\n",
      "You can also count the number of times an object occurs in a container:"
     ]
    },
    {
     "cell_type": "code",
     "collapsed": false,
     "input": [
      "John_Tukey_said.count('approximate')"
     ],
     "language": "python",
     "metadata": {},
     "outputs": [
      {
       "output_type": "pyout",
       "prompt_number": 60,
       "text": [
        "2"
       ]
      }
     ],
     "prompt_number": 60
    },
    {
     "cell_type": "markdown",
     "metadata": {},
     "source": [
      "Now explore what you can do with `str` and `unicode` objects.\n",
      "=============================================================\n",
      "\n",
      "OPEN A TERMINAL.  \n",
      "================\n",
      "\n",
      "Use help(str) and ''. (followed by TAB) to see what you can do. \n",
      "===============================================================\n",
      "\n",
      "Try some of the *methods*.  What objects are contained in all strings?\n",
      "======================================================================\n",
      "\n",
      "* \n",
      "\n",
      "* \n",
      "\n",
      "* \n",
      "\n",
      "* \n",
      "\n",
      "* \n",
      "\n",
      "* \n",
      "\n",
      "* \n",
      "\n",
      "* \n",
      "\n",
      "* \n",
      "\n",
      "* \n",
      "\n",
      "* \n",
      "\n",
      "* \n",
      "\n",
      "* \n",
      "\n",
      "* \n",
      "\n",
      "* \n",
      "\n",
      "* \n",
      "\n",
      "* \n",
      "\n",
      "* \n",
      "\n",
      "* \n",
      "\n",
      "* \n",
      "\n",
      "* ."
     ]
    },
    {
     "cell_type": "code",
     "collapsed": false,
     "input": [
      "import sys\n",
      "import IPython\n",
      "print(\"This notebook was evaluated with: Python %s and IPython %s.\" % (sys.version, IPython.__version__))"
     ],
     "language": "python",
     "metadata": {},
     "outputs": []
    }
   ],
   "metadata": {}
  }
 ]
}